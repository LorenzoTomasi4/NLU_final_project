{
  "nbformat": 4,
  "nbformat_minor": 0,
  "metadata": {
    "colab": {
      "provenance": []
    },
    "kernelspec": {
      "name": "python3",
      "display_name": "Python 3"
    },
    "language_info": {
      "name": "python"
    }
  },
  "cells": [
    {
      "cell_type": "code",
      "source": [
        "from google.colab import drive\n",
        "drive.mount('/content/drive')"
      ],
      "metadata": {
        "id": "yLjItYP7CvvA",
        "colab": {
          "base_uri": "https://localhost:8080/"
        },
        "outputId": "e7b67196-2087-4234-e1e9-b7d27c9c4fb6"
      },
      "execution_count": 1,
      "outputs": [
        {
          "output_type": "stream",
          "name": "stdout",
          "text": [
            "Mounted at /content/drive\n"
          ]
        }
      ]
    },
    {
      "cell_type": "code",
      "source": [
        "import json"
      ],
      "metadata": {
        "id": "8KelT2Nw9Rew"
      },
      "execution_count": 3,
      "outputs": []
    },
    {
      "cell_type": "code",
      "source": [
        "def load_data(path):\n",
        "    dataset = []\n",
        "    with open(path) as f:\n",
        "        dataset = json.loads(f.read())\n",
        "    return dataset"
      ],
      "metadata": {
        "id": "xy57Uy_lEDka"
      },
      "execution_count": 4,
      "outputs": []
    },
    {
      "cell_type": "code",
      "source": [
        "ATIS_test_raw = load_data('/content/drive/MyDrive/NLU/IntentSlotDatasets/ATIS_old/test.json')\n",
        "ATIS_tmp_train_raw = load_data('/content/drive/MyDrive/NLU/IntentSlotDatasets/ATIS_old/train.json')\n",
        "\n",
        "print(\"Dimensions:\")\n",
        "print(f\"ATIS_test: {len(ATIS_test_raw)}\")\n",
        "print(f\"ATIS_train: {len(ATIS_tmp_train_raw)}\")"
      ],
      "metadata": {
        "colab": {
          "base_uri": "https://localhost:8080/"
        },
        "id": "L4yBDn7KBr5U",
        "outputId": "3df71191-911f-46c9-9cca-a19dc03d1203"
      },
      "execution_count": 21,
      "outputs": [
        {
          "output_type": "stream",
          "name": "stdout",
          "text": [
            "Dimensions:\n",
            "ATIS_test: 893\n",
            "ATIS_train: 4978\n"
          ]
        }
      ]
    },
    {
      "cell_type": "code",
      "source": [
        "import random\n",
        "import numpy as np\n",
        "from sklearn.model_selection import train_test_split\n",
        "from collections import Counter\n",
        "from pprint import pprint\n",
        "\n",
        "# First we get the 10% of dataset, then we compute the percentage of these examples\n",
        "# on the training set which is around 11%\n",
        "portion = round(((len(ATIS_tmp_train_raw) + len(ATIS_test_raw)) * 0.10)/(len(ATIS_tmp_train_raw)),2)\n",
        "\n",
        "intents = [x['intent'] for x in ATIS_tmp_train_raw] # We stratify on intents\n",
        "count_y = Counter(intents)\n",
        "\n",
        "Y = []\n",
        "X = []\n",
        "mini_Train = []\n",
        "\n",
        "for id_y, y in enumerate(intents):\n",
        "    if count_y[y] > 1: # Some intents have only one instance, we put them in training\n",
        "        X.append(ATIS_tmp_train_raw[id_y])\n",
        "        Y.append(y)\n",
        "    else:\n",
        "        mini_Train.append(ATIS_tmp_train_raw[id_y])\n",
        "# Random Stratify\n",
        "X_train, X_dev, y_train, y_dev = train_test_split(X, Y, test_size=portion,\n",
        "                                                    random_state=42,\n",
        "                                                    shuffle=True,\n",
        "                                                    stratify=Y)\n",
        "X_train.extend(mini_Train)\n",
        "ATIS_train_raw = X_train\n",
        "ATIS_dev_raw = X_dev\n",
        "\n",
        "y_test = [x['intent'] for x in ATIS_test_raw]\n",
        "\n",
        "# Intent distribution\n",
        "print('Train:')\n",
        "pprint({k:round(v/len(y_train),3)*100 for k, v in sorted(Counter(y_train).items())})\n",
        "print('Dev:'),\n",
        "pprint({k:round(v/len(y_dev),3)*100 for k, v in sorted(Counter(y_dev).items())})\n",
        "print('Test:')\n",
        "pprint({k:round(v/len(y_test),3)*100 for k, v in sorted(Counter(y_test).items())})\n",
        "print('='*89)\n",
        "# Dataset size\n",
        "print('TRAIN size:', len(ATIS_train_raw))\n",
        "print('DEV size:', len(ATIS_dev_raw))\n",
        "print('TEST size:', len(ATIS_test_raw))"
      ],
      "metadata": {
        "colab": {
          "base_uri": "https://localhost:8080/"
        },
        "id": "GbqKA6pPD-LX",
        "outputId": "3e709d22-9dca-4cff-d37e-34f3789ee167"
      },
      "execution_count": 24,
      "outputs": [
        {
          "output_type": "stream",
          "name": "stdout",
          "text": [
            "Train:\n",
            "{'abbreviation': 2.9000000000000004,\n",
            " 'aircraft': 1.6,\n",
            " 'airfare': 8.5,\n",
            " 'airline': 3.2,\n",
            " 'airline+flight_no': 0.0,\n",
            " 'airport': 0.4,\n",
            " 'capacity': 0.3,\n",
            " 'city': 0.4,\n",
            " 'distance': 0.4,\n",
            " 'flight': 73.7,\n",
            " 'flight+airfare': 0.4,\n",
            " 'flight_no': 0.3,\n",
            " 'flight_time': 1.0999999999999999,\n",
            " 'ground_fare': 0.4,\n",
            " 'ground_service': 5.1,\n",
            " 'meal': 0.1,\n",
            " 'quantity': 1.0,\n",
            " 'restriction': 0.1}\n",
            "Dev:\n",
            "{'abbreviation': 3.0,\n",
            " 'aircraft': 1.7000000000000002,\n",
            " 'airfare': 8.5,\n",
            " 'airline': 3.2,\n",
            " 'airport': 0.3,\n",
            " 'capacity': 0.3,\n",
            " 'city': 0.3,\n",
            " 'distance': 0.3,\n",
            " 'flight': 73.7,\n",
            " 'flight+airfare': 0.5,\n",
            " 'flight_no': 0.2,\n",
            " 'flight_time': 1.0,\n",
            " 'ground_fare': 0.3,\n",
            " 'ground_service': 5.2,\n",
            " 'meal': 0.2,\n",
            " 'quantity': 1.0,\n",
            " 'restriction': 0.2}\n",
            "Test:\n",
            "{'abbreviation': 3.6999999999999997,\n",
            " 'aircraft': 1.0,\n",
            " 'airfare': 5.4,\n",
            " 'airfare+flight': 0.1,\n",
            " 'airline': 4.3,\n",
            " 'airport': 2.0,\n",
            " 'capacity': 2.4,\n",
            " 'city': 0.7000000000000001,\n",
            " 'day_name': 0.2,\n",
            " 'distance': 1.0999999999999999,\n",
            " 'flight': 70.8,\n",
            " 'flight+airfare': 1.3,\n",
            " 'flight+airline': 0.1,\n",
            " 'flight_no': 0.8999999999999999,\n",
            " 'flight_no+airline': 0.1,\n",
            " 'flight_time': 0.1,\n",
            " 'ground_fare': 0.8,\n",
            " 'ground_service': 4.0,\n",
            " 'meal': 0.7000000000000001,\n",
            " 'quantity': 0.3}\n",
            "=========================================================================================\n",
            "TRAIN size: 4381\n",
            "DEV size: 597\n",
            "TEST size: 893\n"
          ]
        }
      ]
    },
    {
      "cell_type": "code",
      "source": [
        "# Save ATIS\n",
        "with open('/content/drive/MyDrive/NLU/IntentSlotDatasets/ATIS/new_ATIS_train.json', 'w') as f:\n",
        "    json.dump(ATIS_train_raw, f)\n",
        "\n",
        "# Save dev_raw\n",
        "with open('/content/drive/MyDrive/NLU/IntentSlotDatasets/ATIS/new_ATIS_dev.json', 'w') as f:\n",
        "    json.dump(ATIS_dev_raw, f)\n",
        "\n",
        "# Save test_raw\n",
        "with open('/content/drive/MyDrive/NLU/IntentSlotDatasets/ATIS/new_ATIS_test_raw.json', 'w') as f:\n",
        "    json.dump(ATIS_test_raw, f)\n"
      ],
      "metadata": {
        "id": "J7SjDMwhQTxF"
      },
      "execution_count": 26,
      "outputs": []
    },
    {
      "cell_type": "markdown",
      "source": [
        "#SNIPS"
      ],
      "metadata": {
        "id": "n-2UpWrAw_PW"
      }
    },
    {
      "cell_type": "code",
      "source": [
        "# Load the datasets\n",
        "SNIPS_test = load_data('/content/drive/MyDrive/NLU/IntentSlotDatasets/SNIPS/test.json')\n",
        "SNIPS_train = load_data('/content/drive/MyDrive/NLU/IntentSlotDatasets/SNIPS/train.json')\n",
        "SNIPS_valid = load_data('/content/drive/MyDrive/NLU/IntentSlotDatasets/SNIPS/valid.json')\n",
        "\n",
        "print(\"Dimensions:\")\n",
        "print(f\"SNIPS_test: {len(SNIPS_test)}\")\n",
        "print(f\"SNIPS_train: {len(SNIPS_train)}\")\n",
        "print(f\"SNIPS_train: {len(SNIPS_valid)}\")"
      ],
      "metadata": {
        "colab": {
          "base_uri": "https://localhost:8080/"
        },
        "id": "gf9HvfBVbb-f",
        "outputId": "f0ddc971-9d08-4216-fc7d-57e731024047"
      },
      "execution_count": 5,
      "outputs": [
        {
          "output_type": "stream",
          "name": "stdout",
          "text": [
            "Dimensions:\n",
            "SNIPS_test: 700\n",
            "SNIPS_train: 13084\n",
            "SNIPS_train: 700\n"
          ]
        }
      ]
    }
  ]
}